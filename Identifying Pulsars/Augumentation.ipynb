{
  "nbformat": 4,
  "nbformat_minor": 0,
  "metadata": {
    "colab": {
      "name": "Augumentation.ipynb",
      "provenance": [],
      "collapsed_sections": []
    },
    "kernelspec": {
      "name": "python3",
      "display_name": "Python 3"
    },
    "language_info": {
      "name": "python"
    },
    "accelerator": "GPU"
  },
  "cells": [
    {
      "cell_type": "code",
      "metadata": {
        "id": "lzDGyrBwZJEK"
      },
      "source": [
        ""
      ],
      "execution_count": null,
      "outputs": []
    },
    {
      "cell_type": "code",
      "metadata": {
        "id": "pSOIjCW7UtgM"
      },
      "source": [
        "import numpy as np \n",
        "import pandas as pd \n",
        "from sklearn.preprocessing import StandardScaler"
      ],
      "execution_count": null,
      "outputs": []
    },
    {
      "cell_type": "code",
      "metadata": {
        "id": "Vht_Dvm4Uu3r"
      },
      "source": [
        "!pip install -U -q PyDrive\n",
        "from pydrive.auth import GoogleAuth\n",
        "from pydrive.drive import GoogleDrive\n",
        "from google.colab import auth\n",
        "from oauth2client.client import GoogleCredentials"
      ],
      "execution_count": null,
      "outputs": []
    },
    {
      "cell_type": "code",
      "metadata": {
        "id": "DcVFqJwqUx-9"
      },
      "source": [
        "auth.authenticate_user()\n",
        "gauth = GoogleAuth()\n",
        "gauth.credentials = GoogleCredentials.get_application_default()\n",
        "drive = GoogleDrive(gauth)"
      ],
      "execution_count": null,
      "outputs": []
    },
    {
      "cell_type": "code",
      "metadata": {
        "id": "cjsp2zVsUyBU"
      },
      "source": [
        "fileDownloaded = drive.CreateFile({'id':'1a-sTBUhBEP-nIcLlxDJWGs0nmfAjS3Dl'})\n",
        "fileDownloaded2 = drive.CreateFile({'id':'1MeEWzUMXOv_be1W0XLf-pqhM_tHAvNuH'})\n",
        "fileDownloaded.GetContentFile('pulsars_test_set')\n",
        "fileDownloaded2.GetContentFile('pulsars_train_set')"
      ],
      "execution_count": null,
      "outputs": []
    },
    {
      "cell_type": "code",
      "metadata": {
        "colab": {
          "base_uri": "https://localhost:8080/",
          "height": 364
        },
        "id": "38TwBUJWUyDv",
        "outputId": "5f031ba0-b2ef-481b-8128-b6d29e9ba86a"
      },
      "source": [
        "df1 = pd.read_csv('pulsars_test_set')\n",
        "df1.tail(10)"
      ],
      "execution_count": null,
      "outputs": [
        {
          "output_type": "execute_result",
          "data": {
            "text/html": [
              "<div>\n",
              "<style scoped>\n",
              "    .dataframe tbody tr th:only-of-type {\n",
              "        vertical-align: middle;\n",
              "    }\n",
              "\n",
              "    .dataframe tbody tr th {\n",
              "        vertical-align: top;\n",
              "    }\n",
              "\n",
              "    .dataframe thead th {\n",
              "        text-align: right;\n",
              "    }\n",
              "</style>\n",
              "<table border=\"1\" class=\"dataframe\">\n",
              "  <thead>\n",
              "    <tr style=\"text-align: right;\">\n",
              "      <th></th>\n",
              "      <th>Mean of the integrated profile</th>\n",
              "      <th>Standard deviation of the integrated profile</th>\n",
              "      <th>Excess kurtosis of the integrated profile</th>\n",
              "      <th>Skewness of the integrated profile</th>\n",
              "      <th>Mean of the DM-SNR curve</th>\n",
              "      <th>Standard deviation of the DM-SNR curve</th>\n",
              "      <th>Excess kurtosis of the DM-SNR curve</th>\n",
              "      <th>Skewness of the DM-SNR curve</th>\n",
              "      <th>target_class</th>\n",
              "    </tr>\n",
              "  </thead>\n",
              "  <tbody>\n",
              "    <tr>\n",
              "      <th>12633</th>\n",
              "      <td>106.875000</td>\n",
              "      <td>47.571328</td>\n",
              "      <td>0.199440</td>\n",
              "      <td>0.284964</td>\n",
              "      <td>3.079431</td>\n",
              "      <td>20.984455</td>\n",
              "      <td>8.427475</td>\n",
              "      <td>78.259366</td>\n",
              "      <td>0</td>\n",
              "    </tr>\n",
              "    <tr>\n",
              "      <th>12634</th>\n",
              "      <td>133.820312</td>\n",
              "      <td>43.478161</td>\n",
              "      <td>0.136691</td>\n",
              "      <td>0.353121</td>\n",
              "      <td>0.982441</td>\n",
              "      <td>9.486068</td>\n",
              "      <td>18.528395</td>\n",
              "      <td>444.411748</td>\n",
              "      <td>0</td>\n",
              "    </tr>\n",
              "    <tr>\n",
              "      <th>12635</th>\n",
              "      <td>98.726562</td>\n",
              "      <td>50.407823</td>\n",
              "      <td>0.565124</td>\n",
              "      <td>0.245231</td>\n",
              "      <td>0.570234</td>\n",
              "      <td>9.011285</td>\n",
              "      <td>22.018589</td>\n",
              "      <td>561.833787</td>\n",
              "      <td>0</td>\n",
              "    </tr>\n",
              "    <tr>\n",
              "      <th>12636</th>\n",
              "      <td>126.625000</td>\n",
              "      <td>55.721826</td>\n",
              "      <td>0.002946</td>\n",
              "      <td>-0.303218</td>\n",
              "      <td>0.534281</td>\n",
              "      <td>8.588882</td>\n",
              "      <td>23.913761</td>\n",
              "      <td>660.197035</td>\n",
              "      <td>0</td>\n",
              "    </tr>\n",
              "    <tr>\n",
              "      <th>12637</th>\n",
              "      <td>143.671875</td>\n",
              "      <td>45.302647</td>\n",
              "      <td>-0.045769</td>\n",
              "      <td>0.353643</td>\n",
              "      <td>5.173913</td>\n",
              "      <td>26.462345</td>\n",
              "      <td>5.706651</td>\n",
              "      <td>33.802613</td>\n",
              "      <td>0</td>\n",
              "    </tr>\n",
              "    <tr>\n",
              "      <th>12638</th>\n",
              "      <td>118.484375</td>\n",
              "      <td>50.608483</td>\n",
              "      <td>-0.029059</td>\n",
              "      <td>-0.027494</td>\n",
              "      <td>0.422241</td>\n",
              "      <td>8.086684</td>\n",
              "      <td>27.446113</td>\n",
              "      <td>830.638550</td>\n",
              "      <td>0</td>\n",
              "    </tr>\n",
              "    <tr>\n",
              "      <th>12639</th>\n",
              "      <td>96.000000</td>\n",
              "      <td>44.193113</td>\n",
              "      <td>0.388674</td>\n",
              "      <td>0.281344</td>\n",
              "      <td>1.871237</td>\n",
              "      <td>15.833746</td>\n",
              "      <td>9.634927</td>\n",
              "      <td>104.821623</td>\n",
              "      <td>0</td>\n",
              "    </tr>\n",
              "    <tr>\n",
              "      <th>12640</th>\n",
              "      <td>122.554688</td>\n",
              "      <td>49.485605</td>\n",
              "      <td>0.127978</td>\n",
              "      <td>0.323061</td>\n",
              "      <td>16.409699</td>\n",
              "      <td>44.626893</td>\n",
              "      <td>2.945244</td>\n",
              "      <td>8.297092</td>\n",
              "      <td>0</td>\n",
              "    </tr>\n",
              "    <tr>\n",
              "      <th>12641</th>\n",
              "      <td>119.335938</td>\n",
              "      <td>59.935939</td>\n",
              "      <td>0.159363</td>\n",
              "      <td>-0.743025</td>\n",
              "      <td>21.430602</td>\n",
              "      <td>58.872000</td>\n",
              "      <td>2.499517</td>\n",
              "      <td>4.595173</td>\n",
              "      <td>0</td>\n",
              "    </tr>\n",
              "    <tr>\n",
              "      <th>12642</th>\n",
              "      <td>57.062500</td>\n",
              "      <td>85.797340</td>\n",
              "      <td>1.406391</td>\n",
              "      <td>0.089520</td>\n",
              "      <td>188.306020</td>\n",
              "      <td>64.712562</td>\n",
              "      <td>-1.597527</td>\n",
              "      <td>1.429475</td>\n",
              "      <td>0</td>\n",
              "    </tr>\n",
              "  </tbody>\n",
              "</table>\n",
              "</div>"
            ],
            "text/plain": [
              "       Mean of the integrated profile  ...  target_class\n",
              "12633                      106.875000  ...             0\n",
              "12634                      133.820312  ...             0\n",
              "12635                       98.726562  ...             0\n",
              "12636                      126.625000  ...             0\n",
              "12637                      143.671875  ...             0\n",
              "12638                      118.484375  ...             0\n",
              "12639                       96.000000  ...             0\n",
              "12640                      122.554688  ...             0\n",
              "12641                      119.335938  ...             0\n",
              "12642                       57.062500  ...             0\n",
              "\n",
              "[10 rows x 9 columns]"
            ]
          },
          "metadata": {
            "tags": []
          },
          "execution_count": 7
        }
      ]
    },
    {
      "cell_type": "code",
      "metadata": {
        "colab": {
          "base_uri": "https://localhost:8080/",
          "height": 214
        },
        "id": "-n0mhLU0UyGK",
        "outputId": "dc0511a9-5015-4d9a-e720-14a746dde6f7"
      },
      "source": [
        "df2 = pd.read_csv('pulsars_train_set')\n",
        "df2.tail()"
      ],
      "execution_count": null,
      "outputs": [
        {
          "output_type": "execute_result",
          "data": {
            "text/html": [
              "<div>\n",
              "<style scoped>\n",
              "    .dataframe tbody tr th:only-of-type {\n",
              "        vertical-align: middle;\n",
              "    }\n",
              "\n",
              "    .dataframe tbody tr th {\n",
              "        vertical-align: top;\n",
              "    }\n",
              "\n",
              "    .dataframe thead th {\n",
              "        text-align: right;\n",
              "    }\n",
              "</style>\n",
              "<table border=\"1\" class=\"dataframe\">\n",
              "  <thead>\n",
              "    <tr style=\"text-align: right;\">\n",
              "      <th></th>\n",
              "      <th>Mean of the integrated profile</th>\n",
              "      <th>Standard deviation of the integrated profile</th>\n",
              "      <th>Excess kurtosis of the integrated profile</th>\n",
              "      <th>Skewness of the integrated profile</th>\n",
              "      <th>Mean of the DM-SNR curve</th>\n",
              "      <th>Standard deviation of the DM-SNR curve</th>\n",
              "      <th>Excess kurtosis of the DM-SNR curve</th>\n",
              "      <th>Skewness of the DM-SNR curve</th>\n",
              "      <th>target_class</th>\n",
              "    </tr>\n",
              "  </thead>\n",
              "  <tbody>\n",
              "    <tr>\n",
              "      <th>5250</th>\n",
              "      <td>89.453125</td>\n",
              "      <td>35.848827</td>\n",
              "      <td>0.731656</td>\n",
              "      <td>3.101474</td>\n",
              "      <td>1.450669</td>\n",
              "      <td>14.204964</td>\n",
              "      <td>11.203558</td>\n",
              "      <td>142.473878</td>\n",
              "      <td>0</td>\n",
              "    </tr>\n",
              "    <tr>\n",
              "      <th>5251</th>\n",
              "      <td>127.070312</td>\n",
              "      <td>47.663564</td>\n",
              "      <td>0.006552</td>\n",
              "      <td>-0.123634</td>\n",
              "      <td>0.853679</td>\n",
              "      <td>11.197206</td>\n",
              "      <td>16.122702</td>\n",
              "      <td>296.507738</td>\n",
              "      <td>0</td>\n",
              "    </tr>\n",
              "    <tr>\n",
              "      <th>5252</th>\n",
              "      <td>121.375000</td>\n",
              "      <td>53.245158</td>\n",
              "      <td>0.103772</td>\n",
              "      <td>-0.365119</td>\n",
              "      <td>1.095318</td>\n",
              "      <td>12.239976</td>\n",
              "      <td>16.258042</td>\n",
              "      <td>303.880023</td>\n",
              "      <td>0</td>\n",
              "    </tr>\n",
              "    <tr>\n",
              "      <th>5253</th>\n",
              "      <td>136.429688</td>\n",
              "      <td>59.847421</td>\n",
              "      <td>-0.187846</td>\n",
              "      <td>-0.738123</td>\n",
              "      <td>1.296823</td>\n",
              "      <td>12.166062</td>\n",
              "      <td>15.450260</td>\n",
              "      <td>285.931022</td>\n",
              "      <td>0</td>\n",
              "    </tr>\n",
              "    <tr>\n",
              "      <th>5254</th>\n",
              "      <td>114.507812</td>\n",
              "      <td>53.902400</td>\n",
              "      <td>0.201161</td>\n",
              "      <td>-0.024789</td>\n",
              "      <td>1.946488</td>\n",
              "      <td>13.381731</td>\n",
              "      <td>10.007967</td>\n",
              "      <td>134.238910</td>\n",
              "      <td>0</td>\n",
              "    </tr>\n",
              "  </tbody>\n",
              "</table>\n",
              "</div>"
            ],
            "text/plain": [
              "      Mean of the integrated profile  ...  target_class\n",
              "5250                       89.453125  ...             0\n",
              "5251                      127.070312  ...             0\n",
              "5252                      121.375000  ...             0\n",
              "5253                      136.429688  ...             0\n",
              "5254                      114.507812  ...             0\n",
              "\n",
              "[5 rows x 9 columns]"
            ]
          },
          "metadata": {
            "tags": []
          },
          "execution_count": 8
        }
      ]
    },
    {
      "cell_type": "code",
      "metadata": {
        "id": "0vrmxsPDvVyx"
      },
      "source": [
        "x_train = df1.drop([\"target_class\"], axis=1)\n",
        "x_train2=df1.drop([\"target_class\",], axis=1)\n",
        "x_train3=df1.drop([\"target_class\",], axis=1)\n",
        "x_test = df2.drop([\"target_class\",], axis=1)\n",
        "y_train = df1[\"target_class\"].values\n",
        "y_test = df2[\"target_class\"].values"
      ],
      "execution_count": null,
      "outputs": []
    },
    {
      "cell_type": "code",
      "metadata": {
        "id": "DCx7X1x4UyLD"
      },
      "source": [
        "scaler = StandardScaler()\n",
        "scaler.fit(x_train)\n",
        "\n",
        "x_train = scaler.transform(x_train)\n",
        "x_test = scaler.transform(x_test)\n",
        "\n",
        "x_train2 = scaler.transform(x_train2)"
      ],
      "execution_count": null,
      "outputs": []
    },
    {
      "cell_type": "code",
      "metadata": {
        "colab": {
          "base_uri": "https://localhost:8080/"
        },
        "id": "OC8fFdNpU7_R",
        "outputId": "bd795cf9-828c-4d2a-e589-8403ee0ddc0e"
      },
      "source": [
        "from sklearn.model_selection import train_test_split\n",
        "x_train, x_valid, y_train, y_valid = train_test_split(x_train,y_train, test_size = 0.1, random_state = 42,)\n",
        "\n",
        "print (x_train.shape, y_train.shape, x_valid.shape, y_valid.shape)"
      ],
      "execution_count": null,
      "outputs": [
        {
          "output_type": "stream",
          "text": [
            "(11378, 8) (11378,) (1265, 8) (1265,)\n"
          ],
          "name": "stdout"
        }
      ]
    },
    {
      "cell_type": "code",
      "metadata": {
        "id": "p-iy3kVWaQkx"
      },
      "source": [
        "from imblearn.over_sampling import SMOTE"
      ],
      "execution_count": null,
      "outputs": []
    },
    {
      "cell_type": "code",
      "metadata": {
        "colab": {
          "base_uri": "https://localhost:8080/"
        },
        "id": "gTrGsCfVcSW_",
        "outputId": "686b255c-e82c-4fdd-ae20-7d56c6fe03b9"
      },
      "source": [
        "\n",
        "\n",
        "sm = SMOTE(ratio='auto', random_state=42, k_neighbors=5, m_neighbors=10, out_step=0.5, kind='regular',  n_jobs=1)\n",
        "x_fit_resampled, y_fit_resampled = sm.fit_resample(x_train, y_train)"
      ],
      "execution_count": null,
      "outputs": [
        {
          "output_type": "stream",
          "text": [
            "/usr/local/lib/python3.7/dist-packages/sklearn/utils/deprecation.py:87: FutureWarning: Function safe_indexing is deprecated; safe_indexing is deprecated in version 0.22 and will be removed in version 0.24.\n",
            "  warnings.warn(msg, category=FutureWarning)\n"
          ],
          "name": "stderr"
        }
      ]
    },
    {
      "cell_type": "code",
      "metadata": {
        "colab": {
          "base_uri": "https://localhost:8080/"
        },
        "id": "RmiKTVkAaQsI",
        "outputId": "a523a25f-6a63-478b-b8fc-cf82aed12e29"
      },
      "source": [
        "k=0\n",
        "for i in range(0,len(y_fit_resampled)):\n",
        " if y_fit_resampled[i]==1 :\n",
        "   k=k+1\n",
        "print(k)"
      ],
      "execution_count": null,
      "outputs": [
        {
          "output_type": "stream",
          "text": [
            "10330\n"
          ],
          "name": "stdout"
        }
      ]
    },
    {
      "cell_type": "code",
      "metadata": {
        "colab": {
          "base_uri": "https://localhost:8080/"
        },
        "id": "LC9o7A8gU8Bm",
        "outputId": "3f0d70b7-0134-4beb-e6ac-bfd2549731ad"
      },
      "source": [
        "import tensorflow as tf\n",
        "np.random.seed(124)\n",
        "tf.random.set_seed(1234)\n",
        "\n",
        "from tensorflow.keras.models import Sequential\n",
        "from tensorflow.keras.layers import Conv2D, MaxPooling2D, Flatten, Dense,Dropout\n",
        "\n",
        "\n",
        "model=Sequential()\n",
        "\n",
        "model.add(Dense( 22, activation = \"relu\", input_shape = x_train.shape))\n",
        "model.add(Dropout(0.1))\n",
        "model.add(Dense(42, activation = \"relu\"))\n",
        "model.add(Dropout(0.2))\n",
        "model.add(Dense( 22, activation = \"swish\"))\n",
        "model.add(Dropout(0.1))\n",
        "model.add(Dense(1, activation = \"sigmoid\"))\n",
        "model.summary()\n",
        "\n",
        "\n",
        "model.summary()\n",
        "\n",
        "\n",
        "model.compile(optimizer = \"adam\",\n",
        "              loss = 'BinaryCrossentropy',\n",
        "              metrics = ['accuracy'])\n",
        "\n",
        "\n",
        "from tensorflow.keras.callbacks import EarlyStopping\n",
        "early_stopping = EarlyStopping(patience =20, restore_best_weights = True,monitor='val_loss')\n",
        "\n",
        "history = model.fit(x_fit_resampled, y_fit_resampled, epochs = 1000, batch_size = 1016,\n",
        "                      callbacks = [early_stopping], validation_data=(x_valid, y_valid)                   \n",
        "                  )"
      ],
      "execution_count": null,
      "outputs": [
        {
          "output_type": "stream",
          "text": [
            "Model: \"sequential_1\"\n",
            "_________________________________________________________________\n",
            "Layer (type)                 Output Shape              Param #   \n",
            "=================================================================\n",
            "dense_4 (Dense)              (None, 11378, 22)         198       \n",
            "_________________________________________________________________\n",
            "dropout_3 (Dropout)          (None, 11378, 22)         0         \n",
            "_________________________________________________________________\n",
            "dense_5 (Dense)              (None, 11378, 42)         966       \n",
            "_________________________________________________________________\n",
            "dropout_4 (Dropout)          (None, 11378, 42)         0         \n",
            "_________________________________________________________________\n",
            "dense_6 (Dense)              (None, 11378, 22)         946       \n",
            "_________________________________________________________________\n",
            "dropout_5 (Dropout)          (None, 11378, 22)         0         \n",
            "_________________________________________________________________\n",
            "dense_7 (Dense)              (None, 11378, 1)          23        \n",
            "=================================================================\n",
            "Total params: 2,133\n",
            "Trainable params: 2,133\n",
            "Non-trainable params: 0\n",
            "_________________________________________________________________\n",
            "Model: \"sequential_1\"\n",
            "_________________________________________________________________\n",
            "Layer (type)                 Output Shape              Param #   \n",
            "=================================================================\n",
            "dense_4 (Dense)              (None, 11378, 22)         198       \n",
            "_________________________________________________________________\n",
            "dropout_3 (Dropout)          (None, 11378, 22)         0         \n",
            "_________________________________________________________________\n",
            "dense_5 (Dense)              (None, 11378, 42)         966       \n",
            "_________________________________________________________________\n",
            "dropout_4 (Dropout)          (None, 11378, 42)         0         \n",
            "_________________________________________________________________\n",
            "dense_6 (Dense)              (None, 11378, 22)         946       \n",
            "_________________________________________________________________\n",
            "dropout_5 (Dropout)          (None, 11378, 22)         0         \n",
            "_________________________________________________________________\n",
            "dense_7 (Dense)              (None, 11378, 1)          23        \n",
            "=================================================================\n",
            "Total params: 2,133\n",
            "Trainable params: 2,133\n",
            "Non-trainable params: 0\n",
            "_________________________________________________________________\n",
            "Epoch 1/1000\n",
            "WARNING:tensorflow:Model was constructed with shape (None, 11378, 8) for input KerasTensor(type_spec=TensorSpec(shape=(None, 11378, 8), dtype=tf.float32, name='dense_4_input'), name='dense_4_input', description=\"created by layer 'dense_4_input'\"), but it was called on an input with incompatible shape (None, 8).\n",
            "WARNING:tensorflow:Model was constructed with shape (None, 11378, 8) for input KerasTensor(type_spec=TensorSpec(shape=(None, 11378, 8), dtype=tf.float32, name='dense_4_input'), name='dense_4_input', description=\"created by layer 'dense_4_input'\"), but it was called on an input with incompatible shape (None, 8).\n",
            " 1/21 [>.............................] - ETA: 9s - loss: 1.6234 - accuracy: 0.5010WARNING:tensorflow:Model was constructed with shape (None, 11378, 8) for input KerasTensor(type_spec=TensorSpec(shape=(None, 11378, 8), dtype=tf.float32, name='dense_4_input'), name='dense_4_input', description=\"created by layer 'dense_4_input'\"), but it was called on an input with incompatible shape (None, 8).\n",
            "21/21 [==============================] - 1s 11ms/step - loss: 1.2376 - accuracy: 0.4996 - val_loss: 0.6114 - val_accuracy: 0.7826\n",
            "Epoch 2/1000\n",
            "21/21 [==============================] - 0s 4ms/step - loss: 0.5232 - accuracy: 0.8311 - val_loss: 0.5052 - val_accuracy: 0.8474\n",
            "Epoch 3/1000\n",
            "21/21 [==============================] - 0s 4ms/step - loss: 0.3730 - accuracy: 0.8971 - val_loss: 0.3514 - val_accuracy: 0.9043\n",
            "Epoch 4/1000\n",
            "21/21 [==============================] - 0s 4ms/step - loss: 0.2826 - accuracy: 0.9191 - val_loss: 0.2394 - val_accuracy: 0.9352\n",
            "Epoch 5/1000\n",
            "21/21 [==============================] - 0s 4ms/step - loss: 0.2292 - accuracy: 0.9259 - val_loss: 0.2035 - val_accuracy: 0.9415\n",
            "Epoch 6/1000\n",
            "21/21 [==============================] - 0s 4ms/step - loss: 0.2087 - accuracy: 0.9281 - val_loss: 0.1812 - val_accuracy: 0.9486\n",
            "Epoch 7/1000\n",
            "21/21 [==============================] - 0s 4ms/step - loss: 0.1939 - accuracy: 0.9318 - val_loss: 0.1716 - val_accuracy: 0.9494\n",
            "Epoch 8/1000\n",
            "21/21 [==============================] - 0s 4ms/step - loss: 0.1875 - accuracy: 0.9323 - val_loss: 0.1677 - val_accuracy: 0.9494\n",
            "Epoch 9/1000\n",
            "21/21 [==============================] - 0s 4ms/step - loss: 0.1843 - accuracy: 0.9345 - val_loss: 0.1643 - val_accuracy: 0.9526\n",
            "Epoch 10/1000\n",
            "21/21 [==============================] - 0s 5ms/step - loss: 0.1792 - accuracy: 0.9359 - val_loss: 0.1629 - val_accuracy: 0.9549\n",
            "Epoch 11/1000\n",
            "21/21 [==============================] - 0s 4ms/step - loss: 0.1748 - accuracy: 0.9395 - val_loss: 0.1621 - val_accuracy: 0.9542\n",
            "Epoch 12/1000\n",
            "21/21 [==============================] - 0s 4ms/step - loss: 0.1721 - accuracy: 0.9411 - val_loss: 0.1614 - val_accuracy: 0.9565\n",
            "Epoch 13/1000\n",
            "21/21 [==============================] - 0s 4ms/step - loss: 0.1745 - accuracy: 0.9407 - val_loss: 0.1573 - val_accuracy: 0.9565\n",
            "Epoch 14/1000\n",
            "21/21 [==============================] - 0s 5ms/step - loss: 0.1738 - accuracy: 0.9395 - val_loss: 0.1547 - val_accuracy: 0.9597\n",
            "Epoch 15/1000\n",
            "21/21 [==============================] - 0s 4ms/step - loss: 0.1659 - accuracy: 0.9422 - val_loss: 0.1593 - val_accuracy: 0.9557\n",
            "Epoch 16/1000\n",
            "21/21 [==============================] - 0s 4ms/step - loss: 0.1688 - accuracy: 0.9388 - val_loss: 0.1516 - val_accuracy: 0.9613\n",
            "Epoch 17/1000\n",
            "21/21 [==============================] - 0s 4ms/step - loss: 0.1677 - accuracy: 0.9409 - val_loss: 0.1561 - val_accuracy: 0.9589\n",
            "Epoch 18/1000\n",
            "21/21 [==============================] - 0s 4ms/step - loss: 0.1692 - accuracy: 0.9395 - val_loss: 0.1498 - val_accuracy: 0.9613\n",
            "Epoch 19/1000\n",
            "21/21 [==============================] - 0s 4ms/step - loss: 0.1609 - accuracy: 0.9448 - val_loss: 0.1505 - val_accuracy: 0.9589\n",
            "Epoch 20/1000\n",
            "21/21 [==============================] - 0s 4ms/step - loss: 0.1569 - accuracy: 0.9449 - val_loss: 0.1538 - val_accuracy: 0.9605\n",
            "Epoch 21/1000\n",
            "21/21 [==============================] - 0s 4ms/step - loss: 0.1580 - accuracy: 0.9442 - val_loss: 0.1465 - val_accuracy: 0.9597\n",
            "Epoch 22/1000\n",
            "21/21 [==============================] - 0s 4ms/step - loss: 0.1597 - accuracy: 0.9413 - val_loss: 0.1483 - val_accuracy: 0.9589\n",
            "Epoch 23/1000\n",
            "21/21 [==============================] - 0s 4ms/step - loss: 0.1539 - accuracy: 0.9452 - val_loss: 0.1502 - val_accuracy: 0.9581\n",
            "Epoch 24/1000\n",
            "21/21 [==============================] - 0s 4ms/step - loss: 0.1585 - accuracy: 0.9418 - val_loss: 0.1457 - val_accuracy: 0.9589\n",
            "Epoch 25/1000\n",
            "21/21 [==============================] - 0s 5ms/step - loss: 0.1560 - accuracy: 0.9451 - val_loss: 0.1480 - val_accuracy: 0.9589\n",
            "Epoch 26/1000\n",
            "21/21 [==============================] - 0s 4ms/step - loss: 0.1564 - accuracy: 0.9439 - val_loss: 0.1460 - val_accuracy: 0.9589\n",
            "Epoch 27/1000\n",
            "21/21 [==============================] - 0s 4ms/step - loss: 0.1542 - accuracy: 0.9464 - val_loss: 0.1450 - val_accuracy: 0.9589\n",
            "Epoch 28/1000\n",
            "21/21 [==============================] - 0s 4ms/step - loss: 0.1578 - accuracy: 0.9432 - val_loss: 0.1470 - val_accuracy: 0.9597\n",
            "Epoch 29/1000\n",
            "21/21 [==============================] - 0s 4ms/step - loss: 0.1525 - accuracy: 0.9445 - val_loss: 0.1443 - val_accuracy: 0.9613\n",
            "Epoch 30/1000\n",
            "21/21 [==============================] - 0s 4ms/step - loss: 0.1528 - accuracy: 0.9448 - val_loss: 0.1424 - val_accuracy: 0.9613\n",
            "Epoch 31/1000\n",
            "21/21 [==============================] - 0s 4ms/step - loss: 0.1557 - accuracy: 0.9450 - val_loss: 0.1416 - val_accuracy: 0.9589\n",
            "Epoch 32/1000\n",
            "21/21 [==============================] - 0s 4ms/step - loss: 0.1543 - accuracy: 0.9442 - val_loss: 0.1391 - val_accuracy: 0.9613\n",
            "Epoch 33/1000\n",
            "21/21 [==============================] - 0s 4ms/step - loss: 0.1543 - accuracy: 0.9440 - val_loss: 0.1450 - val_accuracy: 0.9613\n",
            "Epoch 34/1000\n",
            "21/21 [==============================] - 0s 4ms/step - loss: 0.1463 - accuracy: 0.9464 - val_loss: 0.1385 - val_accuracy: 0.9613\n",
            "Epoch 35/1000\n",
            "21/21 [==============================] - 0s 4ms/step - loss: 0.1515 - accuracy: 0.9466 - val_loss: 0.1413 - val_accuracy: 0.9597\n",
            "Epoch 36/1000\n",
            "21/21 [==============================] - 0s 5ms/step - loss: 0.1522 - accuracy: 0.9467 - val_loss: 0.1399 - val_accuracy: 0.9605\n",
            "Epoch 37/1000\n",
            "21/21 [==============================] - 0s 4ms/step - loss: 0.1535 - accuracy: 0.9474 - val_loss: 0.1430 - val_accuracy: 0.9581\n",
            "Epoch 38/1000\n",
            "21/21 [==============================] - 0s 4ms/step - loss: 0.1443 - accuracy: 0.9486 - val_loss: 0.1376 - val_accuracy: 0.9628\n",
            "Epoch 39/1000\n",
            "21/21 [==============================] - 0s 4ms/step - loss: 0.1464 - accuracy: 0.9477 - val_loss: 0.1370 - val_accuracy: 0.9628\n",
            "Epoch 40/1000\n",
            "21/21 [==============================] - 0s 4ms/step - loss: 0.1453 - accuracy: 0.9469 - val_loss: 0.1434 - val_accuracy: 0.9581\n",
            "Epoch 41/1000\n",
            "21/21 [==============================] - 0s 4ms/step - loss: 0.1457 - accuracy: 0.9469 - val_loss: 0.1400 - val_accuracy: 0.9597\n",
            "Epoch 42/1000\n",
            "21/21 [==============================] - 0s 5ms/step - loss: 0.1484 - accuracy: 0.9457 - val_loss: 0.1379 - val_accuracy: 0.9597\n",
            "Epoch 43/1000\n",
            "21/21 [==============================] - 0s 5ms/step - loss: 0.1437 - accuracy: 0.9499 - val_loss: 0.1418 - val_accuracy: 0.9581\n",
            "Epoch 44/1000\n",
            "21/21 [==============================] - 0s 4ms/step - loss: 0.1440 - accuracy: 0.9483 - val_loss: 0.1360 - val_accuracy: 0.9613\n",
            "Epoch 45/1000\n",
            "21/21 [==============================] - 0s 4ms/step - loss: 0.1452 - accuracy: 0.9469 - val_loss: 0.1381 - val_accuracy: 0.9613\n",
            "Epoch 46/1000\n",
            "21/21 [==============================] - 0s 4ms/step - loss: 0.1435 - accuracy: 0.9483 - val_loss: 0.1377 - val_accuracy: 0.9605\n",
            "Epoch 47/1000\n",
            "21/21 [==============================] - 0s 4ms/step - loss: 0.1447 - accuracy: 0.9486 - val_loss: 0.1369 - val_accuracy: 0.9613\n",
            "Epoch 48/1000\n",
            "21/21 [==============================] - 0s 4ms/step - loss: 0.1487 - accuracy: 0.9472 - val_loss: 0.1376 - val_accuracy: 0.9605\n",
            "Epoch 49/1000\n",
            "21/21 [==============================] - 0s 4ms/step - loss: 0.1427 - accuracy: 0.9482 - val_loss: 0.1365 - val_accuracy: 0.9613\n",
            "Epoch 50/1000\n",
            "21/21 [==============================] - 0s 4ms/step - loss: 0.1481 - accuracy: 0.9466 - val_loss: 0.1382 - val_accuracy: 0.9605\n",
            "Epoch 51/1000\n",
            "21/21 [==============================] - 0s 4ms/step - loss: 0.1484 - accuracy: 0.9468 - val_loss: 0.1331 - val_accuracy: 0.9636\n",
            "Epoch 52/1000\n",
            "21/21 [==============================] - 0s 4ms/step - loss: 0.1386 - accuracy: 0.9499 - val_loss: 0.1367 - val_accuracy: 0.9613\n",
            "Epoch 53/1000\n",
            "21/21 [==============================] - 0s 4ms/step - loss: 0.1375 - accuracy: 0.9511 - val_loss: 0.1385 - val_accuracy: 0.9597\n",
            "Epoch 54/1000\n",
            "21/21 [==============================] - 0s 5ms/step - loss: 0.1436 - accuracy: 0.9470 - val_loss: 0.1375 - val_accuracy: 0.9613\n",
            "Epoch 55/1000\n",
            "21/21 [==============================] - 0s 4ms/step - loss: 0.1432 - accuracy: 0.9495 - val_loss: 0.1375 - val_accuracy: 0.9613\n",
            "Epoch 56/1000\n",
            "21/21 [==============================] - 0s 5ms/step - loss: 0.1420 - accuracy: 0.9490 - val_loss: 0.1339 - val_accuracy: 0.9621\n",
            "Epoch 57/1000\n",
            "21/21 [==============================] - 0s 4ms/step - loss: 0.1429 - accuracy: 0.9491 - val_loss: 0.1345 - val_accuracy: 0.9613\n",
            "Epoch 58/1000\n",
            "21/21 [==============================] - 0s 4ms/step - loss: 0.1345 - accuracy: 0.9506 - val_loss: 0.1324 - val_accuracy: 0.9613\n",
            "Epoch 59/1000\n",
            "21/21 [==============================] - 0s 4ms/step - loss: 0.1449 - accuracy: 0.9474 - val_loss: 0.1359 - val_accuracy: 0.9613\n",
            "Epoch 60/1000\n",
            "21/21 [==============================] - 0s 4ms/step - loss: 0.1391 - accuracy: 0.9493 - val_loss: 0.1345 - val_accuracy: 0.9621\n",
            "Epoch 61/1000\n",
            "21/21 [==============================] - 0s 4ms/step - loss: 0.1383 - accuracy: 0.9509 - val_loss: 0.1319 - val_accuracy: 0.9628\n",
            "Epoch 62/1000\n",
            "21/21 [==============================] - 0s 4ms/step - loss: 0.1386 - accuracy: 0.9492 - val_loss: 0.1339 - val_accuracy: 0.9613\n",
            "Epoch 63/1000\n",
            "21/21 [==============================] - 0s 4ms/step - loss: 0.1358 - accuracy: 0.9503 - val_loss: 0.1323 - val_accuracy: 0.9628\n",
            "Epoch 64/1000\n",
            "21/21 [==============================] - 0s 4ms/step - loss: 0.1384 - accuracy: 0.9486 - val_loss: 0.1338 - val_accuracy: 0.9621\n",
            "Epoch 65/1000\n",
            "21/21 [==============================] - 0s 5ms/step - loss: 0.1431 - accuracy: 0.9473 - val_loss: 0.1280 - val_accuracy: 0.9628\n",
            "Epoch 66/1000\n",
            "21/21 [==============================] - 0s 4ms/step - loss: 0.1397 - accuracy: 0.9494 - val_loss: 0.1393 - val_accuracy: 0.9581\n",
            "Epoch 67/1000\n",
            "21/21 [==============================] - 0s 4ms/step - loss: 0.1403 - accuracy: 0.9497 - val_loss: 0.1272 - val_accuracy: 0.9636\n",
            "Epoch 68/1000\n",
            "21/21 [==============================] - 0s 4ms/step - loss: 0.1362 - accuracy: 0.9503 - val_loss: 0.1364 - val_accuracy: 0.9597\n",
            "Epoch 69/1000\n",
            "21/21 [==============================] - 0s 4ms/step - loss: 0.1356 - accuracy: 0.9505 - val_loss: 0.1308 - val_accuracy: 0.9636\n",
            "Epoch 70/1000\n",
            "21/21 [==============================] - 0s 4ms/step - loss: 0.1369 - accuracy: 0.9494 - val_loss: 0.1363 - val_accuracy: 0.9581\n",
            "Epoch 71/1000\n",
            "21/21 [==============================] - 0s 4ms/step - loss: 0.1359 - accuracy: 0.9513 - val_loss: 0.1290 - val_accuracy: 0.9613\n",
            "Epoch 72/1000\n",
            "21/21 [==============================] - 0s 4ms/step - loss: 0.1364 - accuracy: 0.9500 - val_loss: 0.1282 - val_accuracy: 0.9652\n",
            "Epoch 73/1000\n",
            "21/21 [==============================] - 0s 4ms/step - loss: 0.1445 - accuracy: 0.9459 - val_loss: 0.1303 - val_accuracy: 0.9628\n",
            "Epoch 74/1000\n",
            "21/21 [==============================] - 0s 4ms/step - loss: 0.1348 - accuracy: 0.9504 - val_loss: 0.1294 - val_accuracy: 0.9621\n",
            "Epoch 75/1000\n",
            "21/21 [==============================] - 0s 4ms/step - loss: 0.1302 - accuracy: 0.9531 - val_loss: 0.1326 - val_accuracy: 0.9621\n",
            "Epoch 76/1000\n",
            "21/21 [==============================] - 0s 5ms/step - loss: 0.1285 - accuracy: 0.9522 - val_loss: 0.1334 - val_accuracy: 0.9605\n",
            "Epoch 77/1000\n",
            "21/21 [==============================] - 0s 4ms/step - loss: 0.1327 - accuracy: 0.9503 - val_loss: 0.1350 - val_accuracy: 0.9605\n",
            "Epoch 78/1000\n",
            "21/21 [==============================] - 0s 5ms/step - loss: 0.1351 - accuracy: 0.9512 - val_loss: 0.1309 - val_accuracy: 0.9621\n",
            "Epoch 79/1000\n",
            "21/21 [==============================] - 0s 4ms/step - loss: 0.1372 - accuracy: 0.9486 - val_loss: 0.1334 - val_accuracy: 0.9589\n",
            "Epoch 80/1000\n",
            "21/21 [==============================] - 0s 4ms/step - loss: 0.1326 - accuracy: 0.9502 - val_loss: 0.1327 - val_accuracy: 0.9621\n",
            "Epoch 81/1000\n",
            "21/21 [==============================] - 0s 4ms/step - loss: 0.1300 - accuracy: 0.9518 - val_loss: 0.1311 - val_accuracy: 0.9628\n",
            "Epoch 82/1000\n",
            "21/21 [==============================] - 0s 4ms/step - loss: 0.1334 - accuracy: 0.9508 - val_loss: 0.1308 - val_accuracy: 0.9613\n",
            "Epoch 83/1000\n",
            "21/21 [==============================] - 0s 4ms/step - loss: 0.1335 - accuracy: 0.9493 - val_loss: 0.1301 - val_accuracy: 0.9613\n",
            "Epoch 84/1000\n",
            "21/21 [==============================] - 0s 5ms/step - loss: 0.1381 - accuracy: 0.9483 - val_loss: 0.1307 - val_accuracy: 0.9597\n",
            "Epoch 85/1000\n",
            "21/21 [==============================] - 0s 4ms/step - loss: 0.1338 - accuracy: 0.9500 - val_loss: 0.1288 - val_accuracy: 0.9613\n",
            "Epoch 86/1000\n",
            "21/21 [==============================] - 0s 5ms/step - loss: 0.1351 - accuracy: 0.9508 - val_loss: 0.1333 - val_accuracy: 0.9589\n",
            "Epoch 87/1000\n",
            "21/21 [==============================] - 0s 4ms/step - loss: 0.1310 - accuracy: 0.9511 - val_loss: 0.1285 - val_accuracy: 0.9621\n"
          ],
          "name": "stdout"
        }
      ]
    },
    {
      "cell_type": "code",
      "metadata": {
        "colab": {
          "base_uri": "https://localhost:8080/"
        },
        "id": "HDLwbcYXYRWl",
        "outputId": "b5e32f1b-6e7b-494f-9474-3945129d1c8c"
      },
      "source": [
        "model.evaluate(x_test,y_test)"
      ],
      "execution_count": null,
      "outputs": [
        {
          "output_type": "stream",
          "text": [
            "165/165 [==============================] - 0s 1ms/step - loss: 0.1199 - accuracy: 0.9722\n"
          ],
          "name": "stdout"
        },
        {
          "output_type": "execute_result",
          "data": {
            "text/plain": [
              "[0.11994542926549911, 0.9722169637680054]"
            ]
          },
          "metadata": {
            "tags": []
          },
          "execution_count": 50
        }
      ]
    },
    {
      "cell_type": "code",
      "metadata": {
        "colab": {
          "base_uri": "https://localhost:8080/",
          "height": 294
        },
        "id": "fDfW1XQTxKH3",
        "outputId": "dbb66708-eb25-4f5d-fb8b-bd80c61f7aee"
      },
      "source": [
        "import matplotlib.pyplot as plt\n",
        "\n",
        "plt.plot(history.history['loss'])\n",
        "plt.plot(history.history['val_loss'])\n",
        "plt.title('‘Model Loss’')\n",
        "plt.ylabel('‘Losss’')\n",
        "plt.xlabel('‘Epochs’')\n",
        "plt.yscale(\"log\")\n",
        "plt.legend(['‘train’', '‘test’'])\n",
        "plt.show()"
      ],
      "execution_count": null,
      "outputs": [
        {
          "output_type": "display_data",
          "data": {
            "image/png": "[encoded data removed]",
            "text/plain": [
              "<Figure size 432x288 with 1 Axes>"
            ]
          },
          "metadata": {
            "tags": [],
            "needs_background": "light"
          }
        }
      ]
    },
    {
      "cell_type": "code",
      "metadata": {
        "id": "OWMk3iDc3O96",
        "colab": {
          "base_uri": "https://localhost:8080/"
        },
        "outputId": "f52b80ee-741e-4f1f-b195-e8d74608d733"
      },
      "source": [
        "y_pred=model.predict(x_test)"
      ],
      "execution_count": null,
      "outputs": [
        {
          "output_type": "stream",
          "text": [
            "WARNING:tensorflow:Model was constructed with shape (None, 11378, 8) for input KerasTensor(type_spec=TensorSpec(shape=(None, 11378, 8), dtype=tf.float32, name='dense_4_input'), name='dense_4_input', description=\"created by layer 'dense_4_input'\"), but it was called on an input with incompatible shape (None, 8).\n"
          ],
          "name": "stdout"
        }
      ]
    },
    {
      "cell_type": "code",
      "metadata": {
        "id": "f3dH8Wpc4UOG"
      },
      "source": [
        "y_pred = (y_pred > 0.85).astype(np.float32)"
      ],
      "execution_count": null,
      "outputs": []
    },
    {
      "cell_type": "code",
      "metadata": {
        "id": "pAaw7FH6U8JR",
        "colab": {
          "base_uri": "https://localhost:8080/"
        },
        "outputId": "86620303-779c-44be-934c-1e1d96ebb6dc"
      },
      "source": [
        "\n",
        "from sklearn.metrics import confusion_matrix\n",
        "\n",
        "matrix = confusion_matrix(y_test,y_pred, labels=[1,0])\n",
        "print('Confusion matrix : \\n',matrix)\n"
      ],
      "execution_count": null,
      "outputs": [
        {
          "output_type": "stream",
          "text": [
            "Confusion matrix : \n",
            " [[ 417   56]\n",
            " [  36 4746]]\n"
          ],
          "name": "stdout"
        }
      ]
    }
  ]
}