{
 "cells": [
  {
   "cell_type": "code",
   "execution_count": 1,
   "metadata": {},
   "outputs": [],
   "source": [
    "import numpy as np\n",
    "import math\n",
    "import matplotlib.pyplot as plt\n",
    "from scipy import stats\n",
    "import pandas as pd \n",
    "\n",
    "#p=Dimension\n",
    "#cl=Number of classes per dataset (1 or 2)\n",
    "#k=Inner dimension of the data\n",
    "#alpha=0.00001 (small) noise coefficient (start with zero)\n",
    "\n",
    "class dataset_creator():\n",
    "    \n",
    "    def __init__(self,p,cl,k,alpha):\n",
    "        n=[75*np.ones(5),125*np.ones(5),150*np.ones(5)] #Number of samples per dataset !!!!! n arguments\n",
    "        N=len(n) #Number of datasets\n",
    "        w = 0.2 + 0.6*np.random.uniform(0,1,N) #percentage of control samples# Covaraince matrices\n",
    "        \n",
    "        # Covaraince matrices\n",
    "\n",
    "        T0 = np.random.rand(k, k)\n",
    "        Sgm0 = np.dot(T0, T0.transpose())\n",
    "        Lmbd0=np.linalg.cholesky(Sgm0)\n",
    "\n",
    "        T1 = np.random.rand(k, k)\n",
    "        Sgm1 = np.dot(T1, T1.transpose())\n",
    "        Lmbd1=np.linalg.cholesky(Sgm1)\n",
    "\n",
    "        T2 = np.random.rand(k, k)  #συντελεστης \n",
    "        Sgm2 = np.dot(T2, T2.transpose())\n",
    "        Lmbd2=np.linalg.cholesky(Sgm2)\n",
    "        \n",
    "        P=0.1*np.random.rand(k,p)  # 'Projection' matrix\n",
    "        label=0.0\n",
    "        # create & save each dataset\n",
    "        for i in range(0,N):\n",
    "         ll = (i-1)/N\n",
    "         Lmbd = np.dot((1-ll),Lmbd1) + np.dot(ll,Lmbd2)\n",
    "         num_of_samples=int(n[i][0])\n",
    "         \n",
    "    \n",
    "         if cl==1: # one class case\n",
    "           z = np.dot(np.random.rand(n[i],k),Lmbd) # generate samples in latent space\n",
    "         else: #more than 1 class case\n",
    "        \n",
    "           n1 = math.floor(w[i]*n[i][0])\n",
    "           z1 = np.dot(np.random.rand(n1, k),Lmbd0)\n",
    "           \n",
    "           n2 = int(n[i][0]-n1)\n",
    "           z2 = np.dot(np.random.rand(n2, k),Lmbd)\n",
    "           \n",
    "           z = np.concatenate((z1,z2))\n",
    "\n",
    "         x =np.dot(z,P) + np.dot(alpha,np.random.rand(int(n[i][0]),p)) #project to the high dimensional space and add white noise\n",
    "         \n",
    "         \n",
    "         #x=[x,label]\n",
    "         #Plots\n",
    "#          plt.plot(np.transpose(x)) \n",
    "#          plt.show()\n",
    "#          plt.plot(np.dot(x,np.transpose(x)))   #correlation matrix image (scalling)\n",
    "#          plt.show()\n",
    "         #x=np.array(x)\n",
    "         c=np.linspace(label, label, num_of_samples)\n",
    "         #print(c)\n",
    "         x=stats.zscore(x)\n",
    "         x=np.append(x,c[:,None],axis = 1)\n",
    "         pd.DataFrame(x).to_csv(\"datasetga_\"+str(i)+\".csv\") #Saves dataset\n",
    "    \n",
    "         P = P + 0.001*np.random.rand(k,p) # slightly perturb the projection matrix\n",
    "         label=label+1.0\n",
    "\n",
    "\n",
    "\n"
   ]
  },
  {
   "cell_type": "code",
   "execution_count": null,
   "metadata": {},
   "outputs": [],
   "source": []
  },
  {
   "cell_type": "code",
   "execution_count": 2,
   "metadata": {},
   "outputs": [
    {
     "data": {
      "text/plain": [
       "<__main__.dataset_creator at 0x2764e3bffd0>"
      ]
     },
     "execution_count": 2,
     "metadata": {},
     "output_type": "execute_result"
    }
   ],
   "source": [
    "dataset_creator(49999,2,250,0.0001)\n"
   ]
  },
  {
   "cell_type": "code",
   "execution_count": 88,
   "metadata": {},
   "outputs": [
    {
     "name": "stdout",
     "output_type": "stream",
     "text": [
      "     Unnamed: 0         0         1         2         3         4         5  \\\n",
      "0             0  1.310046  1.121272  1.012024  0.980970  0.826821  1.253496   \n",
      "1             1  1.226230  1.135685  0.950616  0.921816  0.531166  1.072096   \n",
      "2             2  1.320453  1.425399  1.160384  1.176882  1.110270  1.370957   \n",
      "3             3  0.746327  0.560690  0.379768  0.611517  0.066133  0.531380   \n",
      "4             4  0.358278  0.036530 -0.301694 -0.023924 -0.590074 -0.162430   \n",
      "..          ...       ...       ...       ...       ...       ...       ...   \n",
      "295         295 -1.021422 -0.762643 -0.340664 -1.078910 -0.064099 -0.686634   \n",
      "296         296 -1.529654 -1.285624 -0.693459 -1.347220 -0.598948 -1.046290   \n",
      "297         297 -1.232674 -0.827037 -0.580804 -1.041626 -0.046899 -0.773303   \n",
      "298         298 -0.981512 -0.702851 -0.455257 -0.407492  0.197619 -0.514003   \n",
      "299         299 -1.871056 -1.500130 -1.411653 -1.529987 -1.094401 -1.670354   \n",
      "\n",
      "            6         7         8  ...       991       992       993  \\\n",
      "0    0.954732  0.823503  0.899948  ...  1.237879  0.466523  1.021963   \n",
      "1    0.816474  1.184838  0.809631  ...  1.255689  0.678765  1.301852   \n",
      "2    1.218162  1.087232  1.026919  ...  1.293754  0.833879  1.278266   \n",
      "3    0.629574  0.460084  0.384763  ...  0.485027  0.071515  0.545316   \n",
      "4   -0.249561  0.159412 -0.251116  ...  0.054712 -0.422762 -0.132897   \n",
      "..        ...       ...       ...  ...       ...       ...       ...   \n",
      "295 -0.450358 -0.884161 -0.036331  ... -0.981395  0.148851 -0.580432   \n",
      "296 -1.187882 -1.645463 -0.595295  ... -1.239561 -0.283852 -1.089050   \n",
      "297 -0.855463 -1.131877 -0.242542  ... -0.943303 -0.103491 -0.897821   \n",
      "298 -0.323471 -0.485930  0.162120  ... -0.708164  0.208146 -0.284136   \n",
      "299 -1.480167 -1.491938 -1.178886  ... -1.533051 -0.691414 -1.527789   \n",
      "\n",
      "          994       995       996       997       998       999  1000  \n",
      "0    1.178285  1.155291  1.044505  0.745743  1.240098  1.151910   0.0  \n",
      "1    0.950849  1.136888  0.820910  0.792993  1.207988  1.278771   0.0  \n",
      "2    1.368900  1.222447  1.483001  0.918904  1.480762  1.464717   0.0  \n",
      "3    0.549377  0.695638  0.510569  0.026758  0.632807  0.669946   0.0  \n",
      "4    0.074261  0.066683 -0.267694 -0.425226 -0.064036  0.349399   0.0  \n",
      "..        ...       ...       ...       ...       ...       ...   ...  \n",
      "295 -0.565716 -0.843124 -0.521766  0.089666 -0.907177 -1.093533   0.0  \n",
      "296 -1.200435 -1.189498 -0.934821 -0.477921 -1.276973 -1.507327   0.0  \n",
      "297 -0.905247 -1.021078 -0.737507 -0.108923 -1.036879 -1.154362   0.0  \n",
      "298 -0.648453 -0.697048 -0.312273  0.113896 -0.629911 -0.941736   0.0  \n",
      "299 -1.813734 -1.764817 -1.536607 -0.933045 -1.835804 -1.902717   0.0  \n",
      "\n",
      "[300 rows x 1002 columns]\n"
     ]
    }
   ],
   "source": [
    "import pandas as pd\n",
    "\n",
    "df = pd.read_csv (r'C:\\Users\\psyph\\dataset_0.csv')\n",
    "print (df)"
   ]
  }
 ],
 "metadata": {
  "kernelspec": {
   "display_name": "Python 3",
   "language": "python",
   "name": "python3"
  },
  "language_info": {
   "codemirror_mode": {
    "name": "ipython",
    "version": 3
   },
   "file_extension": ".py",
   "mimetype": "text/x-python",
   "name": "python",
   "nbconvert_exporter": "python",
   "pygments_lexer": "ipython3",
   "version": "3.6.5"
  }
 },
 "nbformat": 4,
 "nbformat_minor": 2
}
