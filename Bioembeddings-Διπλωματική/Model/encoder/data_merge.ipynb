{
 "cells": [
  {
   "cell_type": "code",
   "execution_count": 11,
   "id": "c22228fe",
   "metadata": {},
   "outputs": [],
   "source": [
    "from pathlib import Path\n",
    "import os\n",
    "import numpy as np\n",
    "import pandas as pd\n",
    "import glob\n",
    "\n",
    "cwd = os.getcwd()\n",
    "os.chdir(cwd)\n",
    "\n",
    "\n",
    "file_extension = '.csv'\n",
    "all_filenames = [i for i in glob.iglob(f\"*{file_extension}\")]\n",
    "combined_csv_data = pd.DataFrame()\n",
    "\n",
    "for f in all_filenames:\n",
    " print(f)\n",
    " x = pd.DataFrame()\n",
    " x=pd.read_csv(f,skiprows=1,header=None)\n",
    " x=x.T\n",
    " x = x.drop(x.columns[0], axis=0)\n",
    " combined_csv_data = pd.concat([combined_csv_data,x],axis=0,ignore_index=True)\n",
    "combined_csv_data.to_csv('combined_csv_data.csv')"
   ]
  }
 ],
 "metadata": {
  "kernelspec": {
   "display_name": "Python 3",
   "language": "python",
   "name": "python3"
  },
  "language_info": {
   "codemirror_mode": {
    "name": "ipython",
    "version": 3
   },
   "file_extension": ".py",
   "mimetype": "text/x-python",
   "name": "python",
   "nbconvert_exporter": "python",
   "pygments_lexer": "ipython3",
   "version": "3.6.5"
  }
 },
 "nbformat": 4,
 "nbformat_minor": 5
}
